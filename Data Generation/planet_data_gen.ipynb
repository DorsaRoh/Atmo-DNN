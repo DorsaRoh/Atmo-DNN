{
 "cells": [
  {
   "cell_type": "markdown",
   "metadata": {},
   "source": [
    "Creating new data using existing data"
   ]
  },
  {
   "cell_type": "code",
   "execution_count": 127,
   "metadata": {},
   "outputs": [
    {
     "name": "stdout",
     "output_type": "stream",
     "text": [
      "(6, 24)\n",
      "(7, 24)\n"
     ]
    }
   ],
   "source": [
    "import numpy as np\n",
    "import pandas as pd\n",
    "import os\n",
    "\n",
    "\n",
    "df_old = pd.read_csv('../Planet Data/train/planet_cleaned_data.csv')\n",
    "data_gen = np.array(df_old) \n",
    "\n",
    "# Calculate the average pairwise differences for each column\n",
    "diffs = []\n",
    "num_cols = data_gen.shape[1]\n",
    "for i in range(num_cols):\n",
    "    for j in range(i + 1, num_cols):\n",
    "        diff = np.mean(data_gen[:, j] - data_gen[:, i])\n",
    "        diffs.append(diff)\n",
    "\n",
    "\n",
    "# Use the average differences to generate new data\n",
    "def generate_new_row(base_row, diffs):\n",
    "    new_row = base_row.copy()\n",
    "    k = 0\n",
    "    for i in range(num_cols):\n",
    "        for j in range(i + 1, num_cols):\n",
    "            random_factor = np.random.normal(0.05, 0.005)  # Introducing some randomness\n",
    "            new_row[j] = new_row[i] + diffs[k] * random_factor\n",
    "            k += 1\n",
    "    if new_row[0] > 1:\n",
    "        return new_row\n",
    "    else:\n",
    "        return None\n",
    "\n",
    "\n",
    "new_data = None\n",
    "while new_data is None:\n",
    "    base_row = data_gen[np.random.choice(data_gen.shape[0])]  # Randomly select a row from the original data\n",
    "    new_data = generate_new_row(base_row, diffs)\n",
    "\n",
    "# Append the new data to the original dataframe using concat\n",
    "df_new = pd.DataFrame(new_data.reshape(1, -1), columns=df.columns)\n",
    "df = pd.concat([df_old, df_new], ignore_index=True)\n",
    "\n",
    "# Save the updated dataframe back to the CSV file\n",
    "df_old.to_csv('../Planet Data/train/planet_cleaned_data.csv', index=False)\n",
    "\n",
    "\n",
    "print(df_old.shape)  # Before appending\n",
    "df_old = pd.concat([df_old, df_new], ignore_index=True)\n",
    "print(df_old.shape)  # After appending\n"
   ]
  }
 ],
 "metadata": {
  "kernelspec": {
   "display_name": "Python 3",
   "language": "python",
   "name": "python3"
  },
  "language_info": {
   "codemirror_mode": {
    "name": "ipython",
    "version": 3
   },
   "file_extension": ".py",
   "mimetype": "text/x-python",
   "name": "python",
   "nbconvert_exporter": "python",
   "pygments_lexer": "ipython3",
   "version": "3.10.5"
  },
  "orig_nbformat": 4
 },
 "nbformat": 4,
 "nbformat_minor": 2
}
