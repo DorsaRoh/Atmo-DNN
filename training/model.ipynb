{
 "cells": [
  {
   "cell_type": "code",
   "execution_count": 2,
   "metadata": {},
   "outputs": [],
   "source": [
    "import torch\n",
    "import torch.nn as nn\n",
    "import torch.optim as optim"
   ]
  },
  {
   "cell_type": "markdown",
   "metadata": {},
   "source": [
    "Generator"
   ]
  },
  {
   "cell_type": "code",
   "execution_count": 3,
   "metadata": {},
   "outputs": [],
   "source": [
    "class Generator(nn.Module):\n",
    "    def __init__(self, input_dim, output_dim):\n",
    "        super(Generator, self).__init__()\n",
    "        self.layers = nn.Sequential(\n",
    "            nn.Linear(input_dim, 25),    # transforms noise (input_dim random inputs) into structure\n",
    "            nn.ReLU(),      \n",
    "            nn.Linear(25, 50),         # transforms the structure into a larger structure\n",
    "            nn.ReLU(),\n",
    "            nn.Linear(50, 25),          # start condensing the learned patters\n",
    "            nn.ReLU(),\n",
    "            nn.Linear(25, output_dim),\n",
    "            nn.Tanh()                   # ensures all values fall within a range of -1 to 1\n",
    "        )\n",
    "\n",
    "    def forward(self, noise):\n",
    "        return self.layers(noise)\n",
    "    \n",
    "generator = Generator(input_dim=20, output_dim=12)\n"
   ]
  },
  {
   "cell_type": "markdown",
   "metadata": {},
   "source": [
    "Discriminator"
   ]
  },
  {
   "cell_type": "code",
   "execution_count": 4,
   "metadata": {},
   "outputs": [],
   "source": [
    "class Discriminator(nn.Module):\n",
    "    def __init__(self, input_dim):\n",
    "        super(Discriminator, self).__init__()\n",
    "        self.net = nn.Sequential(\n",
    "            nn.Linear(input_dim, 64),    \n",
    "            nn.LeakyReLU(0.2),           # to prevent dying neurons\n",
    "            nn.Linear(64, 64),          \n",
    "            nn.LeakyReLU(0.2),\n",
    "            nn.Linear(64, 1),            # outputting a single value\n",
    "            nn.Sigmoid()                 # sigmoid to squish the output between 0 and 1 (real or fake)\n",
    "        )\n",
    "        \n",
    "    def forward(self, x):       # accepts either real or fake data,\n",
    "        return self.net(x)      # and returns the probability of data being real\n",
    "    \n",
    "\n",
    "discriminator = Discriminator(input_dim=12)"
   ]
  },
  {
   "cell_type": "markdown",
   "metadata": {},
   "source": [
    "Training"
   ]
  },
  {
   "cell_type": "code",
   "execution_count": 28,
   "metadata": {},
   "outputs": [
    {
     "name": "stdout",
     "output_type": "stream",
     "text": [
      "(575, 12)\n"
     ]
    }
   ],
   "source": [
    "import pandas as pd\n",
    "from torch.utils.data import TensorDataset, DataLoader\n",
    "\n",
    "features_scaled_path = r'../Planetary Data/features_data.csv'\n",
    "features_scaled = pd.read_csv(features_scaled_path, sep='\\t')\n",
    "\n",
    "features_tensor = torch.tensor(features_scaled.values).float()\n",
    "print(features_scaled.shape) # should be (575, 12)\n",
    "\n",
    "\n",
    "dataset = TensorDataset(features_tensor)\n",
    "batch_size = 64     # number of samples in each batch\n",
    "dataloader = DataLoader(dataset, batch_size=batch_size, shuffle=True)"
   ]
  },
  {
   "cell_type": "markdown",
   "metadata": {},
   "source": [
    "Training Loop"
   ]
  },
  {
   "cell_type": "code",
   "execution_count": null,
   "metadata": {},
   "outputs": [],
   "source": []
  }
 ],
 "metadata": {
  "kernelspec": {
   "display_name": "Python 3",
   "language": "python",
   "name": "python3"
  },
  "language_info": {
   "codemirror_mode": {
    "name": "ipython",
    "version": 3
   },
   "file_extension": ".py",
   "mimetype": "text/x-python",
   "name": "python",
   "nbconvert_exporter": "python",
   "pygments_lexer": "ipython3",
   "version": "3.10.5"
  }
 },
 "nbformat": 4,
 "nbformat_minor": 2
}
