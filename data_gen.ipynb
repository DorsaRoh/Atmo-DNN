{
 "cells": [
  {
   "cell_type": "code",
   "execution_count": 101,
   "metadata": {},
   "outputs": [],
   "source": [
    "# import \n",
    "\n",
    "import numpy as np\n",
    "import pandas as pd\n"
   ]
  },
  {
   "cell_type": "code",
   "execution_count": 102,
   "metadata": {},
   "outputs": [],
   "source": [
    "def calculate_diffs(data_gen):\n",
    "    diffs = []\n",
    "    num_cols = data_gen.shape[1]\n",
    "    for i in range(num_cols):\n",
    "        for j in range(i + 1, num_cols):\n",
    "            diff = np.mean(data_gen[:, j] - data_gen[:, i])\n",
    "            diffs.append(diff)\n",
    "    return diffs\n",
    "\n",
    "def generate_new_row(base_row, diffs, num_cols):\n",
    "    new_row = base_row.copy()\n",
    "    k = 0\n",
    "    for i in range(num_cols):\n",
    "        for j in range(i + 1, num_cols):\n",
    "            random_factor = np.random.normal(0.05, 0.005)\n",
    "            new_row[j] = new_row[i] + diffs[k] * random_factor\n",
    "            k += 1\n",
    "    if new_row[0] > 1:\n",
    "        return new_row\n",
    "    else:\n",
    "        return None\n",
    "\n",
    "def generate_data_from_file(filepath):\n",
    "    df_old = pd.read_csv(filepath)\n",
    "    df_old = df_old.apply(pd.to_numeric, errors='coerce').dropna()\n",
    "    data_gen = np.array(df_old)\n",
    "    \n",
    "    diffs = calculate_diffs(data_gen)\n",
    "    num_cols = data_gen.shape[1]\n",
    "    \n",
    "    new_data = None\n",
    "    while new_data is None:\n",
    "        base_row = data_gen[np.random.choice(data_gen.shape[0])]\n",
    "        new_data = generate_new_row(base_row, diffs, num_cols)\n",
    "    \n",
    "    df_new = pd.DataFrame(new_data.reshape(1, -1), columns=df_old.columns)\n",
    "    return pd.concat([df_old, df_new], ignore_index=True)\n"
   ]
  },
  {
   "cell_type": "markdown",
   "metadata": {},
   "source": [
    "Planetary Data"
   ]
  },
  {
   "cell_type": "code",
   "execution_count": 103,
   "metadata": {},
   "outputs": [],
   "source": [
    "# generate data for each file\n",
    "df_planetary = generate_data_from_file('./Planetary Data/FDL_data.csv')\n",
    "df_planetary = df_planetary.apply(pd.to_numeric, errors='coerce')\n",
    "\n",
    "# concatenate dataframe and save to 'FDL_data.csv'\n",
    "final_df = pd.concat([df_planetary], ignore_index=True)\n",
    "\n",
    "# if you want to append to the existing data in 'FDL_data.csv', use mode='a'\n",
    "# otherwise, it will overwrite the existing file.\n",
    "final_df.to_csv('./Planetary Data/FDL_data.csv', mode='a', header=False, index=False)"
   ]
  },
  {
   "cell_type": "markdown",
   "metadata": {},
   "source": [
    "Stellar Data"
   ]
  },
  {
   "cell_type": "code",
   "execution_count": 104,
   "metadata": {},
   "outputs": [],
   "source": [
    "# generate data for each file\n",
    "df_stellar = generate_data_from_file('./Stellar Data/FDL_data.csv')\n",
    "df_stellar = df_stellar.apply(pd.to_numeric, errors='coerce')\n",
    "\n",
    "# concatenate dataframe and save to 'FDL_data.csv'\n",
    "final_df = pd.concat([df_stellar], ignore_index=True)\n",
    "\n",
    "# if you want to append to the existing data in 'FDL_data.csv', use mode='a'\n",
    "# otherwise, it will overwrite the existing file.\n",
    "final_df.to_csv('./Stellar Data/FDL_data.csv', mode='a', header=False, index=False)"
   ]
  }
 ],
 "metadata": {
  "kernelspec": {
   "display_name": "Python 3",
   "language": "python",
   "name": "python3"
  },
  "language_info": {
   "codemirror_mode": {
    "name": "ipython",
    "version": 3
   },
   "file_extension": ".py",
   "mimetype": "text/x-python",
   "name": "python",
   "nbconvert_exporter": "python",
   "pygments_lexer": "ipython3",
   "version": "3.10.5"
  },
  "orig_nbformat": 4
 },
 "nbformat": 4,
 "nbformat_minor": 2
}
