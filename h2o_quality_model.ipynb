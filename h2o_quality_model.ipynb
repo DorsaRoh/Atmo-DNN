{
 "cells": [
  {
   "cell_type": "code",
   "execution_count": 44,
   "metadata": {},
   "outputs": [
    {
     "data": {
      "text/html": [
       "<div>\n",
       "<style scoped>\n",
       "    .dataframe tbody tr th:only-of-type {\n",
       "        vertical-align: middle;\n",
       "    }\n",
       "\n",
       "    .dataframe tbody tr th {\n",
       "        vertical-align: top;\n",
       "    }\n",
       "\n",
       "    .dataframe thead th {\n",
       "        text-align: right;\n",
       "    }\n",
       "</style>\n",
       "<table border=\"1\" class=\"dataframe\">\n",
       "  <thead>\n",
       "    <tr style=\"text-align: right;\">\n",
       "      <th></th>\n",
       "      <th>ph</th>\n",
       "      <th>Hardness</th>\n",
       "      <th>Solids</th>\n",
       "      <th>Chloramines</th>\n",
       "      <th>Sulfate</th>\n",
       "      <th>Conductivity</th>\n",
       "      <th>Organic_carbon</th>\n",
       "      <th>Trihalomethanes</th>\n",
       "      <th>Turbidity</th>\n",
       "      <th>Potability</th>\n",
       "    </tr>\n",
       "  </thead>\n",
       "  <tbody>\n",
       "    <tr>\n",
       "      <th>0</th>\n",
       "      <td>NaN</td>\n",
       "      <td>204.890455</td>\n",
       "      <td>20791.318981</td>\n",
       "      <td>7.300212</td>\n",
       "      <td>368.516441</td>\n",
       "      <td>564.308654</td>\n",
       "      <td>10.379783</td>\n",
       "      <td>86.990970</td>\n",
       "      <td>2.963135</td>\n",
       "      <td>0</td>\n",
       "    </tr>\n",
       "    <tr>\n",
       "      <th>1</th>\n",
       "      <td>3.716080</td>\n",
       "      <td>129.422921</td>\n",
       "      <td>18630.057858</td>\n",
       "      <td>6.635246</td>\n",
       "      <td>NaN</td>\n",
       "      <td>592.885359</td>\n",
       "      <td>15.180013</td>\n",
       "      <td>56.329076</td>\n",
       "      <td>4.500656</td>\n",
       "      <td>0</td>\n",
       "    </tr>\n",
       "    <tr>\n",
       "      <th>2</th>\n",
       "      <td>8.099124</td>\n",
       "      <td>224.236259</td>\n",
       "      <td>19909.541732</td>\n",
       "      <td>9.275884</td>\n",
       "      <td>NaN</td>\n",
       "      <td>418.606213</td>\n",
       "      <td>16.868637</td>\n",
       "      <td>66.420093</td>\n",
       "      <td>3.055934</td>\n",
       "      <td>0</td>\n",
       "    </tr>\n",
       "    <tr>\n",
       "      <th>3</th>\n",
       "      <td>8.316766</td>\n",
       "      <td>214.373394</td>\n",
       "      <td>22018.417441</td>\n",
       "      <td>8.059332</td>\n",
       "      <td>356.886136</td>\n",
       "      <td>363.266516</td>\n",
       "      <td>18.436524</td>\n",
       "      <td>100.341674</td>\n",
       "      <td>4.628771</td>\n",
       "      <td>0</td>\n",
       "    </tr>\n",
       "    <tr>\n",
       "      <th>4</th>\n",
       "      <td>9.092223</td>\n",
       "      <td>181.101509</td>\n",
       "      <td>17978.986339</td>\n",
       "      <td>6.546600</td>\n",
       "      <td>310.135738</td>\n",
       "      <td>398.410813</td>\n",
       "      <td>11.558279</td>\n",
       "      <td>31.997993</td>\n",
       "      <td>4.075075</td>\n",
       "      <td>0</td>\n",
       "    </tr>\n",
       "  </tbody>\n",
       "</table>\n",
       "</div>"
      ],
      "text/plain": [
       "         ph    Hardness        Solids  Chloramines     Sulfate  Conductivity  \\\n",
       "0       NaN  204.890455  20791.318981     7.300212  368.516441    564.308654   \n",
       "1  3.716080  129.422921  18630.057858     6.635246         NaN    592.885359   \n",
       "2  8.099124  224.236259  19909.541732     9.275884         NaN    418.606213   \n",
       "3  8.316766  214.373394  22018.417441     8.059332  356.886136    363.266516   \n",
       "4  9.092223  181.101509  17978.986339     6.546600  310.135738    398.410813   \n",
       "\n",
       "   Organic_carbon  Trihalomethanes  Turbidity  Potability  \n",
       "0       10.379783        86.990970   2.963135           0  \n",
       "1       15.180013        56.329076   4.500656           0  \n",
       "2       16.868637        66.420093   3.055934           0  \n",
       "3       18.436524       100.341674   4.628771           0  \n",
       "4       11.558279        31.997993   4.075075           0  "
      ]
     },
     "execution_count": 44,
     "metadata": {},
     "output_type": "execute_result"
    }
   ],
   "source": [
    "import os\n",
    "import pandas as pd\n",
    "import tensorflow as tf\n",
    "import numpy as np\n",
    "from sklearn.preprocessing import MinMaxScaler, StandardScaler\n",
    "from sklearn.model_selection import train_test_split\n",
    "from tensorflow import keras\n",
    "from tensorflow.keras import layers\n",
    "import matplotlib.pyplot as plt\n",
    "\n",
    "\n",
    "df = pd.read_csv('H2O Quality Data/water_potability.csv')\n",
    "df.head()"
   ]
  },
  {
   "cell_type": "markdown",
   "metadata": {},
   "source": [
    "Data Analysis and Preprocessing"
   ]
  },
  {
   "cell_type": "code",
   "execution_count": 45,
   "metadata": {},
   "outputs": [
    {
     "name": "stdout",
     "output_type": "stream",
     "text": [
      "3276\n",
      "(3276, 10)\n"
     ]
    }
   ],
   "source": [
    "print(len(df)) # output 3276\n",
    "print(df.shape) # output (3276, 10)\n",
    "\n",
    "# remove all rows with NaN values\n",
    "df.dropna(inplace=True)\n",
    "\n",
    "scaler = StandardScaler() # or MinMaxScaler()\n",
    "df_scaled = pd.DataFrame(scaler.fit_transform(df), columns=df.columns)\n",
    "df_scaled.head()\n",
    "\n",
    "# create new csv file with cleaned data, store in train folder\n",
    "df_scaled.to_csv('H2O Quality Data/train/cleaned_water_potability.csv', index=False)\n",
    "df = pd.read_csv('H2O Quality Data/train/cleaned_water_potability.csv')"
   ]
  },
  {
   "cell_type": "markdown",
   "metadata": {},
   "source": [
    "Data Splitting"
   ]
  },
  {
   "cell_type": "code",
   "execution_count": 46,
   "metadata": {},
   "outputs": [
    {
     "name": "stdout",
     "output_type": "stream",
     "text": [
      "Train set size: 1447\n",
      "Validation set size: 161\n",
      "Test set size: 403\n"
     ]
    }
   ],
   "source": [
    "# split data into temp_train and test sets\n",
    "temp_train, test = train_test_split(df, test_size=0.2, random_state=42)\n",
    "\n",
    "# split temp_train into final train and validate sets\n",
    "train, validate = train_test_split(temp_train, test_size=0.1, random_state=42)\n",
    "\n",
    "# check the sizes of the splits\n",
    "print(f\"Train set size: {len(train)}\")\n",
    "print(f\"Validation set size: {len(validate)}\")\n",
    "print(f\"Test set size: {len(test)}\")\n",
    "\n",
    "# save the splits as csv files\n",
    "train.to_csv('H2O Quality Data/train/train.csv', index=False)\n",
    "validate.to_csv('H2O Quality Data/validate/validate.csv', index=False)\n",
    "test.to_csv('H2O Quality Data/test/test.csv', index=False)"
   ]
  },
  {
   "cell_type": "markdown",
   "metadata": {},
   "source": [
    "Model with Keras \n",
    "(see deep learning model from scratch here: atmosphere_model.ipynb)"
   ]
  },
  {
   "cell_type": "code",
   "execution_count": 47,
   "metadata": {},
   "outputs": [
    {
     "name": "stdout",
     "output_type": "stream",
     "text": [
      "Epoch 1/50\n",
      "46/46 [==============================] - 1s 6ms/step - loss: 0.9573 - mean_absolute_error: 0.9399 - val_loss: 0.9299 - val_mean_absolute_error: 0.9053\n",
      "Epoch 2/50\n",
      "46/46 [==============================] - 0s 3ms/step - loss: 0.8181 - mean_absolute_error: 0.8219 - val_loss: 0.9065 - val_mean_absolute_error: 0.8509\n",
      "Epoch 3/50\n",
      "46/46 [==============================] - 0s 3ms/step - loss: 0.7700 - mean_absolute_error: 0.7840 - val_loss: 0.8792 - val_mean_absolute_error: 0.8285\n",
      "Epoch 4/50\n",
      "46/46 [==============================] - 0s 2ms/step - loss: 0.7292 - mean_absolute_error: 0.7539 - val_loss: 0.9900 - val_mean_absolute_error: 0.8537\n",
      "Epoch 5/50\n",
      "46/46 [==============================] - 0s 2ms/step - loss: 0.6901 - mean_absolute_error: 0.7201 - val_loss: 0.8815 - val_mean_absolute_error: 0.8259\n",
      "Epoch 6/50\n",
      "46/46 [==============================] - 0s 2ms/step - loss: 0.6598 - mean_absolute_error: 0.7002 - val_loss: 0.9428 - val_mean_absolute_error: 0.8179\n",
      "Epoch 7/50\n",
      "46/46 [==============================] - 0s 2ms/step - loss: 0.6166 - mean_absolute_error: 0.6706 - val_loss: 0.9813 - val_mean_absolute_error: 0.8167\n",
      "Epoch 8/50\n",
      "46/46 [==============================] - 0s 2ms/step - loss: 0.5895 - mean_absolute_error: 0.6425 - val_loss: 1.0017 - val_mean_absolute_error: 0.8310\n",
      "Epoch 9/50\n",
      "46/46 [==============================] - 0s 2ms/step - loss: 0.5623 - mean_absolute_error: 0.6279 - val_loss: 1.0492 - val_mean_absolute_error: 0.8545\n",
      "Epoch 10/50\n",
      "46/46 [==============================] - 0s 3ms/step - loss: 0.5545 - mean_absolute_error: 0.6113 - val_loss: 1.0139 - val_mean_absolute_error: 0.8319\n",
      "Epoch 11/50\n",
      "46/46 [==============================] - 0s 3ms/step - loss: 0.5075 - mean_absolute_error: 0.5850 - val_loss: 1.0335 - val_mean_absolute_error: 0.8453\n",
      "Epoch 12/50\n",
      "46/46 [==============================] - 0s 3ms/step - loss: 0.4765 - mean_absolute_error: 0.5619 - val_loss: 1.0559 - val_mean_absolute_error: 0.8716\n",
      "Epoch 13/50\n",
      "46/46 [==============================] - 0s 3ms/step - loss: 0.4479 - mean_absolute_error: 0.5452 - val_loss: 1.0922 - val_mean_absolute_error: 0.8617\n",
      "Epoch 14/50\n",
      "46/46 [==============================] - 0s 3ms/step - loss: 0.4212 - mean_absolute_error: 0.5269 - val_loss: 1.0810 - val_mean_absolute_error: 0.8591\n",
      "Epoch 15/50\n",
      "46/46 [==============================] - 0s 2ms/step - loss: 0.4208 - mean_absolute_error: 0.5202 - val_loss: 1.1179 - val_mean_absolute_error: 0.8550\n",
      "Epoch 16/50\n",
      "46/46 [==============================] - 0s 2ms/step - loss: 0.3734 - mean_absolute_error: 0.4914 - val_loss: 1.1091 - val_mean_absolute_error: 0.8546\n",
      "Epoch 17/50\n",
      "46/46 [==============================] - 0s 3ms/step - loss: 0.3515 - mean_absolute_error: 0.4707 - val_loss: 1.1160 - val_mean_absolute_error: 0.8738\n",
      "Epoch 18/50\n",
      "46/46 [==============================] - 0s 4ms/step - loss: 0.2975 - mean_absolute_error: 0.4279 - val_loss: 1.1336 - val_mean_absolute_error: 0.8511\n",
      "Epoch 19/50\n",
      "46/46 [==============================] - 0s 2ms/step - loss: 0.2864 - mean_absolute_error: 0.4193 - val_loss: 1.1282 - val_mean_absolute_error: 0.8628\n",
      "Epoch 20/50\n",
      "46/46 [==============================] - 0s 2ms/step - loss: 0.2661 - mean_absolute_error: 0.4051 - val_loss: 1.1851 - val_mean_absolute_error: 0.8756\n",
      "Epoch 21/50\n",
      "46/46 [==============================] - 0s 3ms/step - loss: 0.2565 - mean_absolute_error: 0.3954 - val_loss: 1.1074 - val_mean_absolute_error: 0.8374\n",
      "Epoch 22/50\n",
      "46/46 [==============================] - 0s 3ms/step - loss: 0.2286 - mean_absolute_error: 0.3731 - val_loss: 1.2315 - val_mean_absolute_error: 0.8717\n",
      "Epoch 23/50\n",
      "46/46 [==============================] - 0s 2ms/step - loss: 0.2579 - mean_absolute_error: 0.3961 - val_loss: 1.2303 - val_mean_absolute_error: 0.8694\n",
      "Epoch 24/50\n",
      "46/46 [==============================] - 0s 2ms/step - loss: 0.1931 - mean_absolute_error: 0.3434 - val_loss: 1.1891 - val_mean_absolute_error: 0.8699\n",
      "Epoch 25/50\n",
      "46/46 [==============================] - 0s 3ms/step - loss: 0.1907 - mean_absolute_error: 0.3419 - val_loss: 1.1772 - val_mean_absolute_error: 0.8807\n",
      "Epoch 26/50\n",
      "46/46 [==============================] - 0s 3ms/step - loss: 0.1665 - mean_absolute_error: 0.3140 - val_loss: 1.1518 - val_mean_absolute_error: 0.8698\n",
      "Epoch 27/50\n",
      "46/46 [==============================] - 0s 2ms/step - loss: 0.1494 - mean_absolute_error: 0.3012 - val_loss: 1.2378 - val_mean_absolute_error: 0.9032\n",
      "Epoch 28/50\n",
      "46/46 [==============================] - 0s 2ms/step - loss: 0.1440 - mean_absolute_error: 0.2917 - val_loss: 1.2607 - val_mean_absolute_error: 0.8891\n",
      "Epoch 29/50\n",
      "46/46 [==============================] - 0s 3ms/step - loss: 0.1329 - mean_absolute_error: 0.2796 - val_loss: 1.2490 - val_mean_absolute_error: 0.9054\n",
      "Epoch 30/50\n",
      "46/46 [==============================] - 0s 2ms/step - loss: 0.1175 - mean_absolute_error: 0.2582 - val_loss: 1.2405 - val_mean_absolute_error: 0.8941\n",
      "Epoch 31/50\n",
      "46/46 [==============================] - 0s 2ms/step - loss: 0.0956 - mean_absolute_error: 0.2348 - val_loss: 1.3137 - val_mean_absolute_error: 0.9204\n",
      "Epoch 32/50\n",
      "46/46 [==============================] - 0s 2ms/step - loss: 0.0898 - mean_absolute_error: 0.2286 - val_loss: 1.1999 - val_mean_absolute_error: 0.8710\n",
      "Epoch 33/50\n",
      "46/46 [==============================] - 0s 2ms/step - loss: 0.0777 - mean_absolute_error: 0.2134 - val_loss: 1.2358 - val_mean_absolute_error: 0.8854\n",
      "Epoch 34/50\n",
      "46/46 [==============================] - 0s 2ms/step - loss: 0.0797 - mean_absolute_error: 0.2147 - val_loss: 1.2465 - val_mean_absolute_error: 0.9005\n",
      "Epoch 35/50\n",
      "46/46 [==============================] - 0s 3ms/step - loss: 0.0825 - mean_absolute_error: 0.2197 - val_loss: 1.2957 - val_mean_absolute_error: 0.9150\n",
      "Epoch 36/50\n",
      "46/46 [==============================] - 0s 2ms/step - loss: 0.0728 - mean_absolute_error: 0.2070 - val_loss: 1.2202 - val_mean_absolute_error: 0.8923\n",
      "Epoch 37/50\n",
      "46/46 [==============================] - 0s 3ms/step - loss: 0.0917 - mean_absolute_error: 0.2262 - val_loss: 1.2749 - val_mean_absolute_error: 0.9006\n",
      "Epoch 38/50\n",
      "46/46 [==============================] - 0s 3ms/step - loss: 0.0679 - mean_absolute_error: 0.1987 - val_loss: 1.2352 - val_mean_absolute_error: 0.8956\n",
      "Epoch 39/50\n",
      "46/46 [==============================] - 0s 3ms/step - loss: 0.0540 - mean_absolute_error: 0.1775 - val_loss: 1.2366 - val_mean_absolute_error: 0.8886\n",
      "Epoch 40/50\n",
      "46/46 [==============================] - 0s 3ms/step - loss: 0.0411 - mean_absolute_error: 0.1556 - val_loss: 1.2610 - val_mean_absolute_error: 0.9062\n",
      "Epoch 41/50\n",
      "46/46 [==============================] - 0s 3ms/step - loss: 0.0528 - mean_absolute_error: 0.1731 - val_loss: 1.2482 - val_mean_absolute_error: 0.8849\n",
      "Epoch 42/50\n",
      "46/46 [==============================] - 0s 2ms/step - loss: 0.0408 - mean_absolute_error: 0.1532 - val_loss: 1.3053 - val_mean_absolute_error: 0.9232\n",
      "Epoch 43/50\n",
      "46/46 [==============================] - 0s 4ms/step - loss: 0.0336 - mean_absolute_error: 0.1424 - val_loss: 1.3134 - val_mean_absolute_error: 0.9276\n",
      "Epoch 44/50\n",
      "46/46 [==============================] - 0s 2ms/step - loss: 0.0291 - mean_absolute_error: 0.1312 - val_loss: 1.3161 - val_mean_absolute_error: 0.9156\n",
      "Epoch 45/50\n",
      "46/46 [==============================] - 0s 2ms/step - loss: 0.0315 - mean_absolute_error: 0.1358 - val_loss: 1.2950 - val_mean_absolute_error: 0.9221\n",
      "Epoch 46/50\n",
      "46/46 [==============================] - 0s 2ms/step - loss: 0.0336 - mean_absolute_error: 0.1395 - val_loss: 1.2646 - val_mean_absolute_error: 0.8929\n",
      "Epoch 47/50\n",
      "46/46 [==============================] - 0s 3ms/step - loss: 0.0417 - mean_absolute_error: 0.1563 - val_loss: 1.2747 - val_mean_absolute_error: 0.9087\n",
      "Epoch 48/50\n",
      "46/46 [==============================] - 0s 2ms/step - loss: 0.0430 - mean_absolute_error: 0.1587 - val_loss: 1.2614 - val_mean_absolute_error: 0.8992\n",
      "Epoch 49/50\n",
      "46/46 [==============================] - 0s 2ms/step - loss: 0.0350 - mean_absolute_error: 0.1404 - val_loss: 1.2419 - val_mean_absolute_error: 0.8962\n",
      "Epoch 50/50\n",
      "46/46 [==============================] - 0s 2ms/step - loss: 0.0301 - mean_absolute_error: 0.1333 - val_loss: 1.2647 - val_mean_absolute_error: 0.9036\n"
     ]
    }
   ],
   "source": [
    "# split features and target for all datasets\n",
    "X_train, y_train = train.drop('Potability', axis=1), train['Potability']\n",
    "X_validate, y_validate = validate.drop('Potability', axis=1), validate['Potability']\n",
    "X_test, y_test = test.drop('Potability', axis=1), test['Potability']\n",
    "\n",
    "model = keras.Sequential([\n",
    "    layers.Dense(256, activation='relu', input_shape=(X_train.shape[1],)),\n",
    "    layers.Dense(128, activation='relu'),\n",
    "    layers.Dense(64, activation='relu'),\n",
    "    layers.Dense(32, activation='relu'),\n",
    "    layers.Dense(1)  # output layer\n",
    "])\n",
    "\n",
    "model.compile(optimizer='adam',\n",
    "              loss='mean_squared_error',\n",
    "              metrics=['mean_absolute_error'])\n",
    "\n",
    "# train model\n",
    "history = model.fit(\n",
    "    X_train, y_train,\n",
    "    epochs=50,\n",
    "    batch_size=32,\n",
    "    validation_data=(X_validate, y_validate)\n",
    ")\n",
    "\n"
   ]
  },
  {
   "cell_type": "markdown",
   "metadata": {},
   "source": [
    "Evalute Model"
   ]
  },
  {
   "cell_type": "code",
   "execution_count": 48,
   "metadata": {},
   "outputs": [
    {
     "name": "stdout",
     "output_type": "stream",
     "text": [
      "13/13 [==============================] - 0s 3ms/step - loss: 1.2224 - mean_absolute_error: 0.8828\n",
      "Test loss: 1.2223522663116455\n",
      "Test metric: 0.8827548027038574\n",
      "13/13 [==============================] - 0s 1ms/step\n"
     ]
    }
   ],
   "source": [
    "test_loss, test_metric = model.evaluate(X_test, y_test)\n",
    "print(f\"Test loss: {test_loss}\")\n",
    "print(f\"Test metric: {test_metric}\")\n",
    "\n",
    "# make predictions\n",
    "predictions = model.predict(X_test)\n"
   ]
  },
  {
   "cell_type": "code",
   "execution_count": 49,
   "metadata": {},
   "outputs": [
    {
     "name": "stdout",
     "output_type": "stream",
     "text": [
      "13/13 [==============================] - 0s 1ms/step\n"
     ]
    },
    {
     "data": {
      "image/png": "[encoded data removed]",
      "text/plain": [
       "<Figure size 1000x600 with 1 Axes>"
      ]
     },
     "metadata": {},
     "output_type": "display_data"
    }
   ],
   "source": [
    "Y_test = test['Potability'].values\n",
    "Y_pred = model.predict(X_test)\n",
    "\n",
    "\n",
    "def plot_residuals(Y_true, Y_pred):\n",
    "    residuals = Y_true - Y_pred\n",
    "    plt.figure(figsize=(10, 6))\n",
    "    \n",
    "    plt.hist(residuals, bins=50, alpha=0.7)\n",
    "    \n",
    "    plt.xlabel('Residual Value')\n",
    "    plt.ylabel('Frequency')\n",
    "    plt.title('Distribution of Residuals')\n",
    "    plt.grid(True)\n",
    "    plt.show()\n",
    "\n",
    "plot_residuals(Y_test, Y_pred)"
   ]
  }
 ],
 "metadata": {
  "kernelspec": {
   "display_name": "Python 3",
   "language": "python",
   "name": "python3"
  },
  "language_info": {
   "codemirror_mode": {
    "name": "ipython",
    "version": 3
   },
   "file_extension": ".py",
   "mimetype": "text/x-python",
   "name": "python",
   "nbconvert_exporter": "python",
   "pygments_lexer": "ipython3",
   "version": "3.10.5"
  },
  "orig_nbformat": 4
 },
 "nbformat": 4,
 "nbformat_minor": 2
}
